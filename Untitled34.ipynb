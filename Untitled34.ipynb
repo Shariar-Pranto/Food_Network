{
  "nbformat": 4,
  "nbformat_minor": 0,
  "metadata": {
    "colab": {
      "provenance": [],
      "authorship_tag": "ABX9TyM3AKAs3MsEWwZC9IkFguVh",
      "include_colab_link": true
    },
    "kernelspec": {
      "name": "python3",
      "display_name": "Python 3"
    },
    "language_info": {
      "name": "python"
    }
  },
  "cells": [
    {
      "cell_type": "markdown",
      "metadata": {
        "id": "view-in-github",
        "colab_type": "text"
      },
      "source": [
        "<a href=\"https://colab.research.google.com/github/Shariar-Pranto/Food_Network/blob/main/Untitled34.ipynb\" target=\"_parent\"><img src=\"https://colab.research.google.com/assets/colab-badge.svg\" alt=\"Open In Colab\"/></a>"
      ]
    },
    {
      "cell_type": "code",
      "execution_count": 13,
      "metadata": {
        "colab": {
          "base_uri": "https://localhost:8080/"
        },
        "id": "IgQe9sPDthEb",
        "outputId": "f6b15537-6b22-4127-9315-346794c1e06a"
      },
      "outputs": [
        {
          "output_type": "stream",
          "name": "stdout",
          "text": [
            "ID\tIdentifiers\tData Types\n",
            "2\ta\t\tint\n",
            "1\tb\t\tfloat\n",
            "1\tc\t\tdouble\n",
            "-\td\t\tchar\n",
            "1\te\t\tint\n",
            "5\tf\t\tfloat\n",
            "-\tg\t\tdouble\n",
            "1\th\t\tchar\n",
            "4\ti\t\tint\n",
            "6\tj\t\tfloat\n"
          ]
        }
      ],
      "source": [
        "class SymbolTable:\n",
        "    def __init__(self, student_id):\n",
        "        self.symbol_table = []\n",
        "        self.student_id = student_id\n",
        "        self.current_id = 0\n",
        "\n",
        "    def add_entry(self, data_type, identifier):\n",
        "        self.current_id += 1\n",
        "        if self.current_id <= len(self.student_id.replace(\"-\", \"\")):\n",
        "            self.symbol_table.append([self.student_id[self.current_id - 1], identifier, data_type])\n",
        "        else:\n",
        "            print(\"student ID.\")\n",
        "            self.display_table()\n",
        "\n",
        "    def display_table(self):\n",
        "        print(\"ID\\tIdentifiers\\tData Types\")\n",
        "        for entry in self.symbol_table:\n",
        "            print(f\"{entry[0]}\\t{entry[1]}\\t\\t{entry[2]}\")\n",
        "\n",
        "\n",
        "def simulate():\n",
        "    student_id = \"211-15-14611\"\n",
        "    sym_table = SymbolTable(student_id)\n",
        "\n",
        "    inputs = [(\"int\", 'a'), (\"float\", 'b'), (\"double\", 'c'), (\"char\", 'd'),\n",
        "              (\"int\", 'e'), (\"float\", 'f'), (\"double\", 'g'), (\"char\", 'h'),\n",
        "              (\"int\", 'i'), (\"float\", 'j')]\n",
        "\n",
        "    for data_type, identifier in inputs:\n",
        "        sym_table.add_entry(data_type, identifier)\n",
        "\n",
        "    sym_table.display_table()\n",
        "\n",
        "simulate()\n"
      ]
    },
    {
      "cell_type": "code",
      "source": [],
      "metadata": {
        "id": "vSJrAIf2ucMN"
      },
      "execution_count": null,
      "outputs": []
    },
    {
      "cell_type": "code",
      "source": [],
      "metadata": {
        "id": "xZ_Bf8o7DYD6"
      },
      "execution_count": null,
      "outputs": []
    },
    {
      "cell_type": "code",
      "source": [
        "\n",
        "reserved_words = {'int', 'float', 'double', 'char', 'for', 'if'}\n",
        "valid_operators = {'+', '-', '*', '/', '>', '<', '++'}\n",
        "\n",
        "def check_errors(code):\n",
        "\n",
        "    tokens = code.split()\n",
        "\n",
        "\n",
        "    identifiers = []\n",
        "    operators = []\n",
        "\n",
        "    for token in tokens:\n",
        "        if token in reserved_words:\n",
        "\n",
        "            if token not in reserved_words:\n",
        "                print(f\"'{token}' is misspelled!\")\n",
        "        elif token in valid_operators:\n",
        "            operators.append(token)\n",
        "        elif '=' in token:\n",
        "\n",
        "            parts = token.split('=')\n",
        "            identifiers.extend(parts)\n",
        "        else:\n",
        "\n",
        "            identifiers.append(token)\n",
        "\n",
        "\n",
        "    if code[-1] != ';':\n",
        "        print(\"Missing Semicolon!\")\n",
        "\n",
        "\n",
        "    valid_identifiers = [identifier for identifier in identifiers if identifier.isidentifier()]\n",
        "    print(\"Valid Identifiers:\", ', '.join(valid_identifiers))\n",
        "\n",
        "\n",
        "    print(\"Valid Operators:\", ', '.join(operators))\n",
        "\n",
        "\n",
        "user_code = input(\"Enter your code: \")\n",
        "check_errors(user_code)\n"
      ],
      "metadata": {
        "colab": {
          "base_uri": "https://localhost:8080/"
        },
        "id": "moG-z-Qj4I6g",
        "outputId": "fda2336a-78cc-4fc1-c0f4-3adf72d9dc61"
      },
      "execution_count": 6,
      "outputs": [
        {
          "output_type": "stream",
          "name": "stdout",
          "text": [
            "Enter your code: forr(i=0;i++)\n",
            "Missing Semicolon!\n",
            "Valid Identifiers: \n",
            "Valid Operators: \n"
          ]
        }
      ]
    },
    {
      "cell_type": "code",
      "source": [],
      "metadata": {
        "id": "w1xHQtiR5Z2z"
      },
      "execution_count": null,
      "outputs": []
    },
    {
      "cell_type": "code",
      "source": [],
      "metadata": {
        "id": "BnW9375GDZbE"
      },
      "execution_count": null,
      "outputs": []
    },
    {
      "cell_type": "code",
      "source": [
        "def validate_function(student_id, function_declaration):\n",
        "    is_odd = int(student_id[-1]) % 2 != 0\n",
        "\n",
        "    symbol_table = {\n",
        "        'Return Type': '',\n",
        "        'Parameters': ''\n",
        "    }\n",
        "\n",
        "    if \"()\" not in function_declaration:\n",
        "        if is_odd:\n",
        "            symbol_table['Return Type'] = 'void'\n",
        "        else:\n",
        "            symbol_table['Parameters'] = function_declaration.split('(')[1].split(')')[0]\n",
        "    else:\n",
        "        parts = function_declaration.split(\"(\")\n",
        "        return_type = parts[0].split()[-1]\n",
        "        parameters = parts[1].split(\")\")[0]\n",
        "\n",
        "        if is_odd:\n",
        "            symbol_table['Return Type'] = return_type\n",
        "        else:\n",
        "            symbol_table['Parameters'] = parameters\n",
        "\n",
        "    return symbol_table\n",
        "\n",
        "\n",
        "student_id = \"211-15-14611\"\n",
        "function = \"CSE332(int course_code)\"\n",
        "\n",
        "symbol_table = validate_function(student_id, function)\n",
        "\n",
        "print(\"Symbol Table\")\n",
        "print(\"-------------\")\n",
        "for key, value in symbol_table.items():\n",
        "    print(f\"{key}: {value}\")\n"
      ],
      "metadata": {
        "colab": {
          "base_uri": "https://localhost:8080/"
        },
        "id": "luFcSlEA5aDx",
        "outputId": "43d76424-4f29-403d-9f4b-3f98c5fcdd0f"
      },
      "execution_count": 10,
      "outputs": [
        {
          "output_type": "stream",
          "name": "stdout",
          "text": [
            "Symbol Table\n",
            "-------------\n",
            "Return Type: void\n",
            "Parameters: \n"
          ]
        }
      ]
    }
  ]
}